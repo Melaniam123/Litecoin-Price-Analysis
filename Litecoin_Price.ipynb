{
  "cells": [
    {
      "cell_type": "markdown",
      "source": [
        "<h1>Litecoin Price Analysis<span class=\"tocSkip\"></span></h1>\n",
        "<div class=\"toc\"><ul class=\"toc-item\"></ul></div>\n",
        "\n",
        "Department of Analytics, Northeastern University\n",
        "EAI 6010: Applications of Artificial Intelligence\n",
        "\n",
        "\n",
        "\n",
        "---\n",
        "\n",
        "\n",
        "Melania Bonnie Mendes\n",
        "February 26, 2023\n"
      ],
      "metadata": {
        "id": "l1uYG4ycMR0R"
      }
    },
    {
      "cell_type": "markdown",
      "metadata": {
        "toc": true,
        "id": "Rw6y0oCgugZl"
      },
      "source": [
        "<h1>Table of Contents<span class=\"tocSkip\"></span></h1>\n",
        "<div class=\"toc\"><ul class=\"toc-item\"></ul></div>\n",
        "\n",
        "\n",
        "1.   Introduction \n",
        "2.   Importing packages\n",
        "3.   Importing data \n",
        "4.   Data preprocessing\n",
        "5.   Price Analysis\n",
        "6.   Conclusion \n",
        "7.   References\n",
        "\n",
        "\n",
        "\n"
      ]
    },
    {
      "cell_type": "code",
      "source": [
        "from google.colab import drive\n",
        "drive.mount('/content/drive')"
      ],
      "metadata": {
        "colab": {
          "base_uri": "https://localhost:8080/",
          "height": 0
        },
        "id": "lk4kVAeHDVUC",
        "outputId": "c5e99560-fc8b-4489-abc5-aead97d377a2"
      },
      "execution_count": 3,
      "outputs": [
        {
          "output_type": "stream",
          "name": "stdout",
          "text": [
            "Mounted at /content/drive\n"
          ]
        }
      ]
    },
    {
      "cell_type": "markdown",
      "source": [
        "\n",
        "\n",
        "<h1>Introduction<span class=\"tocSkip\"></span></h1>\n",
        "<div class=\"toc\"><ul class=\"toc-item\"></ul></div>\n",
        "\n",
        "\n",
        "Cryptocurrency is an encrypted digital currency that runs on a public ledger called the block chain. Litecoin is a cryptocurrency founded in 2011, two years after Bitcoin by a former Google engineer McFarlane, G. (2022). This study examines the price of litecoin from the **bitstamp** exchange and the changes in its pricing pattern over the last 100 days starting November 15, 2022. The study involves a complete analysis of seven variables comprising of ‘Close Time',  'Open Price',  'High Price',  'Low Price',  'Close Price',  'Volume', 'NA’ using Jupiter Notebook. \n"
      ],
      "metadata": {
        "id": "zqZpiFp_O4zh"
      }
    },
    {
      "cell_type": "markdown",
      "metadata": {
        "id": "x-Axr6AXugZm"
      },
      "source": [
        "<h1>Importing Packages<span class=\"tocSkip\"></span></h1>\n",
        "<div class=\"toc\"><ul class=\"toc-item\"></ul></div>\n",
        "\n",
        "\n",
        "  This tutorial, inspired by the obsolete by now post on https://notebooks.ai,  where we pulled Litecoin cryptocurrency prices from a public API and downloaded them as Excel files. We installed two libraries : *requests*  (required to pull data from the web) and *pandas* that was required to process the data. May require `pip install requests`"
      ]
    },
    {
      "cell_type": "code",
      "execution_count": 4,
      "metadata": {
        "scrolled": true,
        "id": "wz5zww9DugZm"
      },
      "outputs": [],
      "source": [
        "import requests\n",
        "import pandas as pd"
      ]
    },
    {
      "cell_type": "markdown",
      "metadata": {
        "id": "CtNxdbJmugZm"
      },
      "source": [
        "<h1>Importing Data<span class=\"tocSkip\"></span></h1>\n",
        "<div class=\"toc\"><ul class=\"toc-item\"></ul></div>\n",
        "\n",
        "We have predefined a function that simplifies the process of importing data from **Cryptowatch**. Using this function we generated the seven variables comprising of ‘Close Time', 'Open Price', 'High Price', 'Low Price', 'Close Price', 'Volume', 'NA’ required for our analysis. Cryptowatch makes it easy to keep a constant watch on the crypto market and make trades when the conditions are favourable. \n",
        "\n"
      ]
    },
    {
      "cell_type": "code",
      "execution_count": 5,
      "metadata": {
        "scrolled": true,
        "id": "I_XHYprYugZm"
      },
      "outputs": [],
      "source": [
        "def get_historic_price(symbol, exchange='bitstamp', after='2018-09-01'):\n",
        "    url = 'https://api.cryptowat.ch/markets/{exchange}/{symbol}usd/ohlc'.format(\n",
        "        symbol=symbol, exchange=exchange)\n",
        "    resp = requests.get(url, params={\n",
        "        'periods': '3600',\n",
        "        'after': str(int(pd.Timestamp(after).timestamp()))\n",
        "    })\n",
        "    resp.raise_for_status()\n",
        "    data = resp.json()\n",
        "    df = pd.DataFrame(data['result']['3600'], columns=[\n",
        "        'CloseTime', 'OpenPrice', 'HighPrice', 'LowPrice', 'ClosePrice', 'Volume', 'NA'\n",
        "    ])\n",
        "    df['CloseTime'] = pd.to_datetime(df['CloseTime'], unit='s')\n",
        "    df.set_index('CloseTime', inplace=True)\n",
        "    return df"
      ]
    },
    {
      "cell_type": "markdown",
      "source": [
        "<h1>Data Preprocessing<span class=\"tocSkip\"></span></h1>\n",
        "<div class=\"toc\"><ul class=\"toc-item\"></ul></div>\n"
      ],
      "metadata": {
        "id": "VvyUsu4WS8sg"
      }
    },
    {
      "cell_type": "markdown",
      "metadata": {
        "id": "jVIP4Ma5ugZm"
      },
      "source": [
        "Using the following code, the data was pulled for Litecoin - one of the most popular cryptocurrency from the exhange for the period of last 100 days with a timestamp. "
      ]
    },
    {
      "cell_type": "code",
      "execution_count": 6,
      "metadata": {
        "scrolled": true,
        "colab": {
          "base_uri": "https://localhost:8080/",
          "height": 0
        },
        "id": "dA7HZuEYugZn",
        "outputId": "5e110042-04e4-41fa-88ad-0ea299d0cfa3"
      },
      "outputs": [
        {
          "output_type": "execute_result",
          "data": {
            "text/plain": [
              "Timestamp('2022-11-18 23:29:34.101115')"
            ]
          },
          "metadata": {},
          "execution_count": 6
        }
      ],
      "source": [
        "last_100days = (pd.Timestamp.now() - pd.offsets.Day(100))\n",
        "last_100days"
      ]
    },
    {
      "cell_type": "markdown",
      "source": [
        "The historic prices of litecoin provided the opening price, closing price, volume traded, highest and lowest price during a given trading cycle. The following code ltc.tail was performed to check if the results were in the desired format."
      ],
      "metadata": {
        "id": "ptjJDLaTQnnC"
      }
    },
    {
      "cell_type": "code",
      "execution_count": 7,
      "metadata": {
        "scrolled": true,
        "colab": {
          "base_uri": "https://localhost:8080/",
          "height": 238
        },
        "id": "CFvYcNNtugZn",
        "outputId": "68eaf7a2-eec0-4729-a48b-d10bb0e1df45"
      },
      "outputs": [
        {
          "output_type": "execute_result",
          "data": {
            "text/plain": [
              "                     OpenPrice  HighPrice  LowPrice  ClosePrice      Volume  \\\n",
              "CloseTime                                                                     \n",
              "2023-02-26 20:00:00      95.13      95.36     94.92       95.17  116.137687   \n",
              "2023-02-26 21:00:00      95.11      95.50     95.07       95.42  408.665949   \n",
              "2023-02-26 22:00:00      95.24      95.30     95.11       95.12  658.270711   \n",
              "2023-02-26 23:00:00      95.12      95.21     94.14       94.26  173.032666   \n",
              "2023-02-27 00:00:00      94.96      95.16     94.92       95.16  151.313561   \n",
              "\n",
              "                               NA  \n",
              "CloseTime                          \n",
              "2023-02-26 20:00:00  11061.758085  \n",
              "2023-02-26 21:00:00  38955.142465  \n",
              "2023-02-26 22:00:00  62713.541014  \n",
              "2023-02-26 23:00:00  16422.098346  \n",
              "2023-02-27 00:00:00  14374.660748  "
            ],
            "text/html": [
              "\n",
              "  <div id=\"df-077ca2ef-4f43-4bc1-8fba-dfdd4179a9a0\">\n",
              "    <div class=\"colab-df-container\">\n",
              "      <div>\n",
              "<style scoped>\n",
              "    .dataframe tbody tr th:only-of-type {\n",
              "        vertical-align: middle;\n",
              "    }\n",
              "\n",
              "    .dataframe tbody tr th {\n",
              "        vertical-align: top;\n",
              "    }\n",
              "\n",
              "    .dataframe thead th {\n",
              "        text-align: right;\n",
              "    }\n",
              "</style>\n",
              "<table border=\"1\" class=\"dataframe\">\n",
              "  <thead>\n",
              "    <tr style=\"text-align: right;\">\n",
              "      <th></th>\n",
              "      <th>OpenPrice</th>\n",
              "      <th>HighPrice</th>\n",
              "      <th>LowPrice</th>\n",
              "      <th>ClosePrice</th>\n",
              "      <th>Volume</th>\n",
              "      <th>NA</th>\n",
              "    </tr>\n",
              "    <tr>\n",
              "      <th>CloseTime</th>\n",
              "      <th></th>\n",
              "      <th></th>\n",
              "      <th></th>\n",
              "      <th></th>\n",
              "      <th></th>\n",
              "      <th></th>\n",
              "    </tr>\n",
              "  </thead>\n",
              "  <tbody>\n",
              "    <tr>\n",
              "      <th>2023-02-26 20:00:00</th>\n",
              "      <td>95.13</td>\n",
              "      <td>95.36</td>\n",
              "      <td>94.92</td>\n",
              "      <td>95.17</td>\n",
              "      <td>116.137687</td>\n",
              "      <td>11061.758085</td>\n",
              "    </tr>\n",
              "    <tr>\n",
              "      <th>2023-02-26 21:00:00</th>\n",
              "      <td>95.11</td>\n",
              "      <td>95.50</td>\n",
              "      <td>95.07</td>\n",
              "      <td>95.42</td>\n",
              "      <td>408.665949</td>\n",
              "      <td>38955.142465</td>\n",
              "    </tr>\n",
              "    <tr>\n",
              "      <th>2023-02-26 22:00:00</th>\n",
              "      <td>95.24</td>\n",
              "      <td>95.30</td>\n",
              "      <td>95.11</td>\n",
              "      <td>95.12</td>\n",
              "      <td>658.270711</td>\n",
              "      <td>62713.541014</td>\n",
              "    </tr>\n",
              "    <tr>\n",
              "      <th>2023-02-26 23:00:00</th>\n",
              "      <td>95.12</td>\n",
              "      <td>95.21</td>\n",
              "      <td>94.14</td>\n",
              "      <td>94.26</td>\n",
              "      <td>173.032666</td>\n",
              "      <td>16422.098346</td>\n",
              "    </tr>\n",
              "    <tr>\n",
              "      <th>2023-02-27 00:00:00</th>\n",
              "      <td>94.96</td>\n",
              "      <td>95.16</td>\n",
              "      <td>94.92</td>\n",
              "      <td>95.16</td>\n",
              "      <td>151.313561</td>\n",
              "      <td>14374.660748</td>\n",
              "    </tr>\n",
              "  </tbody>\n",
              "</table>\n",
              "</div>\n",
              "      <button class=\"colab-df-convert\" onclick=\"convertToInteractive('df-077ca2ef-4f43-4bc1-8fba-dfdd4179a9a0')\"\n",
              "              title=\"Convert this dataframe to an interactive table.\"\n",
              "              style=\"display:none;\">\n",
              "        \n",
              "  <svg xmlns=\"http://www.w3.org/2000/svg\" height=\"24px\"viewBox=\"0 0 24 24\"\n",
              "       width=\"24px\">\n",
              "    <path d=\"M0 0h24v24H0V0z\" fill=\"none\"/>\n",
              "    <path d=\"M18.56 5.44l.94 2.06.94-2.06 2.06-.94-2.06-.94-.94-2.06-.94 2.06-2.06.94zm-11 1L8.5 8.5l.94-2.06 2.06-.94-2.06-.94L8.5 2.5l-.94 2.06-2.06.94zm10 10l.94 2.06.94-2.06 2.06-.94-2.06-.94-.94-2.06-.94 2.06-2.06.94z\"/><path d=\"M17.41 7.96l-1.37-1.37c-.4-.4-.92-.59-1.43-.59-.52 0-1.04.2-1.43.59L10.3 9.45l-7.72 7.72c-.78.78-.78 2.05 0 2.83L4 21.41c.39.39.9.59 1.41.59.51 0 1.02-.2 1.41-.59l7.78-7.78 2.81-2.81c.8-.78.8-2.07 0-2.86zM5.41 20L4 18.59l7.72-7.72 1.47 1.35L5.41 20z\"/>\n",
              "  </svg>\n",
              "      </button>\n",
              "      \n",
              "  <style>\n",
              "    .colab-df-container {\n",
              "      display:flex;\n",
              "      flex-wrap:wrap;\n",
              "      gap: 12px;\n",
              "    }\n",
              "\n",
              "    .colab-df-convert {\n",
              "      background-color: #E8F0FE;\n",
              "      border: none;\n",
              "      border-radius: 50%;\n",
              "      cursor: pointer;\n",
              "      display: none;\n",
              "      fill: #1967D2;\n",
              "      height: 32px;\n",
              "      padding: 0 0 0 0;\n",
              "      width: 32px;\n",
              "    }\n",
              "\n",
              "    .colab-df-convert:hover {\n",
              "      background-color: #E2EBFA;\n",
              "      box-shadow: 0px 1px 2px rgba(60, 64, 67, 0.3), 0px 1px 3px 1px rgba(60, 64, 67, 0.15);\n",
              "      fill: #174EA6;\n",
              "    }\n",
              "\n",
              "    [theme=dark] .colab-df-convert {\n",
              "      background-color: #3B4455;\n",
              "      fill: #D2E3FC;\n",
              "    }\n",
              "\n",
              "    [theme=dark] .colab-df-convert:hover {\n",
              "      background-color: #434B5C;\n",
              "      box-shadow: 0px 1px 3px 1px rgba(0, 0, 0, 0.15);\n",
              "      filter: drop-shadow(0px 1px 2px rgba(0, 0, 0, 0.3));\n",
              "      fill: #FFFFFF;\n",
              "    }\n",
              "  </style>\n",
              "\n",
              "      <script>\n",
              "        const buttonEl =\n",
              "          document.querySelector('#df-077ca2ef-4f43-4bc1-8fba-dfdd4179a9a0 button.colab-df-convert');\n",
              "        buttonEl.style.display =\n",
              "          google.colab.kernel.accessAllowed ? 'block' : 'none';\n",
              "\n",
              "        async function convertToInteractive(key) {\n",
              "          const element = document.querySelector('#df-077ca2ef-4f43-4bc1-8fba-dfdd4179a9a0');\n",
              "          const dataTable =\n",
              "            await google.colab.kernel.invokeFunction('convertToInteractive',\n",
              "                                                     [key], {});\n",
              "          if (!dataTable) return;\n",
              "\n",
              "          const docLinkHtml = 'Like what you see? Visit the ' +\n",
              "            '<a target=\"_blank\" href=https://colab.research.google.com/notebooks/data_table.ipynb>data table notebook</a>'\n",
              "            + ' to learn more about interactive tables.';\n",
              "          element.innerHTML = '';\n",
              "          dataTable['output_type'] = 'display_data';\n",
              "          await google.colab.output.renderOutput(dataTable, element);\n",
              "          const docLink = document.createElement('div');\n",
              "          docLink.innerHTML = docLinkHtml;\n",
              "          element.appendChild(docLink);\n",
              "        }\n",
              "      </script>\n",
              "    </div>\n",
              "  </div>\n",
              "  "
            ]
          },
          "metadata": {},
          "execution_count": 7
        }
      ],
      "source": [
        "ltc = get_historic_price('ltc', 'bitstamp', after=last_100days)\n",
        "ltc.tail()"
      ]
    },
    {
      "cell_type": "markdown",
      "metadata": {
        "id": "gkGm5k2lugZn"
      },
      "source": [
        "In the steps ahead, as a result of getting a better view of litecoins performance we plotted the graph which represented the price performance/ patterns from November 2022 to February 2023. During the seasonal period there was a decline in the price while it exponentially increased in January 2023."
      ]
    },
    {
      "cell_type": "code",
      "execution_count": 8,
      "metadata": {
        "scrolled": false,
        "colab": {
          "base_uri": "https://localhost:8080/",
          "height": 430
        },
        "id": "BVKaWJI0ugZn",
        "outputId": "38184834-eedf-42cd-803a-719d2602f28d"
      },
      "outputs": [
        {
          "output_type": "execute_result",
          "data": {
            "text/plain": [
              "<AxesSubplot:xlabel='CloseTime'>"
            ]
          },
          "metadata": {},
          "execution_count": 8
        },
        {
          "output_type": "display_data",
          "data": {
            "text/plain": [
              "<Figure size 1080x504 with 1 Axes>"
            ],
            "image/png": "[encoded data removed]"
          },
          "metadata": {
            "needs_background": "light"
          }
        }
      ],
      "source": [
        "ltc['ClosePrice'].plot(figsize=(15, 7))"
      ]
    },
    {
      "cell_type": "markdown",
      "metadata": {
        "id": "3g3V5oWJugZn"
      },
      "source": [
        "<h1>Dynamic Plots with Bokeh<span class=\"tocSkip\"></span></h1>\n",
        "<div class=\"toc\"><ul class=\"toc-item\"></ul></div>\n",
        "\n",
        "\n",
        "Bokeh is used to generate highly interactive graphs and visualizations. The grapoh of \"Crypto Prices\" provides an good view of the price of Litecoin and its spike from January 2023. "
      ]
    },
    {
      "cell_type": "markdown",
      "metadata": {
        "id": "f0SJmcw-ugZn"
      },
      "source": [
        "May need to `pip install bokeh`"
      ]
    },
    {
      "cell_type": "code",
      "execution_count": 9,
      "metadata": {
        "colab": {
          "base_uri": "https://localhost:8080/",
          "height": 417
        },
        "id": "kjPtfcc0ugZn",
        "outputId": "e3d03292-edae-4c42-cc42-143e778f7425"
      },
      "outputs": [
        {
          "output_type": "display_data",
          "data": {
            "application/javascript": [
              "\n",
              "(function(root) {\n",
              "  function now() {\n",
              "    return new Date();\n",
              "  }\n",
              "\n",
              "  var force = true;\n",
              "\n",
              "  if (typeof root._bokeh_onload_callbacks === \"undefined\" || force === true) {\n",
              "    root._bokeh_onload_callbacks = [];\n",
              "    root._bokeh_is_loading = undefined;\n",
              "  }\n",
              "\n",
              "  var JS_MIME_TYPE = 'application/javascript';\n",
              "  var HTML_MIME_TYPE = 'text/html';\n",
              "  var EXEC_MIME_TYPE = 'application/vnd.bokehjs_exec.v0+json';\n",
              "  var CLASS_NAME = 'output_bokeh rendered_html';\n",
              "\n",
              "  /**\n",
              "   * Render data to the DOM node\n",
              "   */\n",
              "  function render(props, node) {\n",
              "    var script = document.createElement(\"script\");\n",
              "    node.appendChild(script);\n",
              "  }\n",
              "\n",
              "  /**\n",
              "   * Handle when an output is cleared or removed\n",
              "   */\n",
              "  function handleClearOutput(event, handle) {\n",
              "    var cell = handle.cell;\n",
              "\n",
              "    var id = cell.output_area._bokeh_element_id;\n",
              "    var server_id = cell.output_area._bokeh_server_id;\n",
              "    // Clean up Bokeh references\n",
              "    if (id != null && id in Bokeh.index) {\n",
              "      Bokeh.index[id].model.document.clear();\n",
              "      delete Bokeh.index[id];\n",
              "    }\n",
              "\n",
              "    if (server_id !== undefined) {\n",
              "      // Clean up Bokeh references\n",
              "      var cmd = \"from bokeh.io.state import curstate; print(curstate().uuid_to_server['\" + server_id + \"'].get_sessions()[0].document.roots[0]._id)\";\n",
              "      cell.notebook.kernel.execute(cmd, {\n",
              "        iopub: {\n",
              "          output: function(msg) {\n",
              "            var id = msg.content.text.trim();\n",
              "            if (id in Bokeh.index) {\n",
              "              Bokeh.index[id].model.document.clear();\n",
              "              delete Bokeh.index[id];\n",
              "            }\n",
              "          }\n",
              "        }\n",
              "      });\n",
              "      // Destroy server and session\n",
              "      var cmd = \"import bokeh.io.notebook as ion; ion.destroy_server('\" + server_id + \"')\";\n",
              "      cell.notebook.kernel.execute(cmd);\n",
              "    }\n",
              "  }\n",
              "\n",
              "  /**\n",
              "   * Handle when a new output is added\n",
              "   */\n",
              "  function handleAddOutput(event, handle) {\n",
              "    var output_area = handle.output_area;\n",
              "    var output = handle.output;\n",
              "\n",
              "    // limit handleAddOutput to display_data with EXEC_MIME_TYPE content only\n",
              "    if ((output.output_type != \"display_data\") || (!Object.prototype.hasOwnProperty.call(output.data, EXEC_MIME_TYPE))) {\n",
              "      return\n",
              "    }\n",
              "\n",
              "    var toinsert = output_area.element.find(\".\" + CLASS_NAME.split(' ')[0]);\n",
              "\n",
              "    if (output.metadata[EXEC_MIME_TYPE][\"id\"] !== undefined) {\n",
              "      toinsert[toinsert.length - 1].firstChild.textContent = output.data[JS_MIME_TYPE];\n",
              "      // store reference to embed id on output_area\n",
              "      output_area._bokeh_element_id = output.metadata[EXEC_MIME_TYPE][\"id\"];\n",
              "    }\n",
              "    if (output.metadata[EXEC_MIME_TYPE][\"server_id\"] !== undefined) {\n",
              "      var bk_div = document.createElement(\"div\");\n",
              "      bk_div.innerHTML = output.data[HTML_MIME_TYPE];\n",
              "      var script_attrs = bk_div.children[0].attributes;\n",
              "      for (var i = 0; i < script_attrs.length; i++) {\n",
              "        toinsert[toinsert.length - 1].firstChild.setAttribute(script_attrs[i].name, script_attrs[i].value);\n",
              "        toinsert[toinsert.length - 1].firstChild.textContent = bk_div.children[0].textContent\n",
              "      }\n",
              "      // store reference to server id on output_area\n",
              "      output_area._bokeh_server_id = output.metadata[EXEC_MIME_TYPE][\"server_id\"];\n",
              "    }\n",
              "  }\n",
              "\n",
              "  function register_renderer(events, OutputArea) {\n",
              "\n",
              "    function append_mime(data, metadata, element) {\n",
              "      // create a DOM node to render to\n",
              "      var toinsert = this.create_output_subarea(\n",
              "        metadata,\n",
              "        CLASS_NAME,\n",
              "        EXEC_MIME_TYPE\n",
              "      );\n",
              "      this.keyboard_manager.register_events(toinsert);\n",
              "      // Render to node\n",
              "      var props = {data: data, metadata: metadata[EXEC_MIME_TYPE]};\n",
              "      render(props, toinsert[toinsert.length - 1]);\n",
              "      element.append(toinsert);\n",
              "      return toinsert\n",
              "    }\n",
              "\n",
              "    /* Handle when an output is cleared or removed */\n",
              "    events.on('clear_output.CodeCell', handleClearOutput);\n",
              "    events.on('delete.Cell', handleClearOutput);\n",
              "\n",
              "    /* Handle when a new output is added */\n",
              "    events.on('output_added.OutputArea', handleAddOutput);\n",
              "\n",
              "    /**\n",
              "     * Register the mime type and append_mime function with output_area\n",
              "     */\n",
              "    OutputArea.prototype.register_mime_type(EXEC_MIME_TYPE, append_mime, {\n",
              "      /* Is output safe? */\n",
              "      safe: true,\n",
              "      /* Index of renderer in `output_area.display_order` */\n",
              "      index: 0\n",
              "    });\n",
              "  }\n",
              "\n",
              "  // register the mime type if in Jupyter Notebook environment and previously unregistered\n",
              "  if (root.Jupyter !== undefined) {\n",
              "    var events = require('base/js/events');\n",
              "    var OutputArea = require('notebook/js/outputarea').OutputArea;\n",
              "\n",
              "    if (OutputArea.prototype.mime_types().indexOf(EXEC_MIME_TYPE) == -1) {\n",
              "      register_renderer(events, OutputArea);\n",
              "    }\n",
              "  }\n",
              "\n",
              "  \n",
              "  if (typeof (root._bokeh_timeout) === \"undefined\" || force === true) {\n",
              "    root._bokeh_timeout = Date.now() + 5000;\n",
              "    root._bokeh_failed_load = false;\n",
              "  }\n",
              "\n",
              "  var NB_LOAD_WARNING = {'data': {'text/html':\n",
              "     \"<div style='background-color: #fdd'>\\n\"+\n",
              "     \"<p>\\n\"+\n",
              "     \"BokehJS does not appear to have successfully loaded. If loading BokehJS from CDN, this \\n\"+\n",
              "     \"may be due to a slow or bad network connection. Possible fixes:\\n\"+\n",
              "     \"</p>\\n\"+\n",
              "     \"<ul>\\n\"+\n",
              "     \"<li>re-rerun `output_notebook()` to attempt to load from CDN again, or</li>\\n\"+\n",
              "     \"<li>use INLINE resources instead, as so:</li>\\n\"+\n",
              "     \"</ul>\\n\"+\n",
              "     \"<code>\\n\"+\n",
              "     \"from bokeh.resources import INLINE\\n\"+\n",
              "     \"output_notebook(resources=INLINE)\\n\"+\n",
              "     \"</code>\\n\"+\n",
              "     \"</div>\"}};\n",
              "\n",
              "  function display_loaded() {\n",
              "    var el = document.getElementById(null);\n",
              "    if (el != null) {\n",
              "      el.textContent = \"BokehJS is loading...\";\n",
              "    }\n",
              "    if (root.Bokeh !== undefined) {\n",
              "      if (el != null) {\n",
              "        el.textContent = \"BokehJS \" + root.Bokeh.version + \" successfully loaded.\";\n",
              "      }\n",
              "    } else if (Date.now() < root._bokeh_timeout) {\n",
              "      setTimeout(display_loaded, 100)\n",
              "    }\n",
              "  }\n",
              "\n",
              "\n",
              "  function run_callbacks() {\n",
              "    try {\n",
              "      root._bokeh_onload_callbacks.forEach(function(callback) {\n",
              "        if (callback != null)\n",
              "          callback();\n",
              "      });\n",
              "    } finally {\n",
              "      delete root._bokeh_onload_callbacks\n",
              "    }\n",
              "    console.debug(\"Bokeh: all callbacks have finished\");\n",
              "  }\n",
              "\n",
              "  function load_libs(css_urls, js_urls, callback) {\n",
              "    if (css_urls == null) css_urls = [];\n",
              "    if (js_urls == null) js_urls = [];\n",
              "\n",
              "    root._bokeh_onload_callbacks.push(callback);\n",
              "    if (root._bokeh_is_loading > 0) {\n",
              "      console.debug(\"Bokeh: BokehJS is being loaded, scheduling callback at\", now());\n",
              "      return null;\n",
              "    }\n",
              "    if (js_urls == null || js_urls.length === 0) {\n",
              "      run_callbacks();\n",
              "      return null;\n",
              "    }\n",
              "    console.debug(\"Bokeh: BokehJS not loaded, scheduling load and callback at\", now());\n",
              "    root._bokeh_is_loading = css_urls.length + js_urls.length;\n",
              "\n",
              "    function on_load() {\n",
              "      root._bokeh_is_loading--;\n",
              "      if (root._bokeh_is_loading === 0) {\n",
              "        console.debug(\"Bokeh: all BokehJS libraries/stylesheets loaded\");\n",
              "        run_callbacks()\n",
              "      }\n",
              "    }\n",
              "\n",
              "    function on_error(url) {\n",
              "      console.error(\"failed to load \" + url);\n",
              "    }\n",
              "\n",
              "    for (let i = 0; i < css_urls.length; i++) {\n",
              "      const url = css_urls[i];\n",
              "      const element = document.createElement(\"link\");\n",
              "      element.onload = on_load;\n",
              "      element.onerror = on_error.bind(null, url);\n",
              "      element.rel = \"stylesheet\";\n",
              "      element.type = \"text/css\";\n",
              "      element.href = url;\n",
              "      console.debug(\"Bokeh: injecting link tag for BokehJS stylesheet: \", url);\n",
              "      document.body.appendChild(element);\n",
              "    }\n",
              "\n",
              "    const hashes = {\"https://cdn.bokeh.org/bokeh/release/bokeh-2.3.3.min.js\": \"dM3QQsP+wXdHg42wTqW85BjZQdLNNIXqlPw/BgKoExPmTG7ZLML4EGqLMfqHT6ON\", \"https://cdn.bokeh.org/bokeh/release/bokeh-tables-2.3.3.min.js\": \"8x57I4YuIfu8XyZfFo0XVr2WAT8EK4rh/uDe3wF7YuW2FNUSNEpJbsPaB1nJ2fz2\", \"https://cdn.bokeh.org/bokeh/release/bokeh-widgets-2.3.3.min.js\": \"3QTqdz9LyAm2i0sG5XTePsHec3UHWwVsrOL68SYRoAXsafvfAyqtQ+h440+qIBhS\"};\n",
              "\n",
              "    for (let i = 0; i < js_urls.length; i++) {\n",
              "      const url = js_urls[i];\n",
              "      const element = document.createElement('script');\n",
              "      element.onload = on_load;\n",
              "      element.onerror = on_error.bind(null, url);\n",
              "      element.async = false;\n",
              "      element.src = url;\n",
              "      if (url in hashes) {\n",
              "        element.crossOrigin = \"anonymous\";\n",
              "        element.integrity = \"sha384-\" + hashes[url];\n",
              "      }\n",
              "      console.debug(\"Bokeh: injecting script tag for BokehJS library: \", url);\n",
              "      document.head.appendChild(element);\n",
              "    }\n",
              "  };\n",
              "\n",
              "  function inject_raw_css(css) {\n",
              "    const element = document.createElement(\"style\");\n",
              "    element.appendChild(document.createTextNode(css));\n",
              "    document.body.appendChild(element);\n",
              "  }\n",
              "\n",
              "  \n",
              "  var js_urls = [\"https://cdn.bokeh.org/bokeh/release/bokeh-2.3.3.min.js\", \"https://cdn.bokeh.org/bokeh/release/bokeh-widgets-2.3.3.min.js\", \"https://cdn.bokeh.org/bokeh/release/bokeh-tables-2.3.3.min.js\"];\n",
              "  var css_urls = [];\n",
              "  \n",
              "\n",
              "  var inline_js = [\n",
              "    function(Bokeh) {\n",
              "      Bokeh.set_log_level(\"info\");\n",
              "    },\n",
              "    function(Bokeh) {\n",
              "    \n",
              "    \n",
              "    }\n",
              "  ];\n",
              "\n",
              "  function run_inline_js() {\n",
              "    \n",
              "    if (root.Bokeh !== undefined || force === true) {\n",
              "      \n",
              "    for (var i = 0; i < inline_js.length; i++) {\n",
              "      inline_js[i].call(root, root.Bokeh);\n",
              "    }\n",
              "    } else if (Date.now() < root._bokeh_timeout) {\n",
              "      setTimeout(run_inline_js, 100);\n",
              "    } else if (!root._bokeh_failed_load) {\n",
              "      console.log(\"Bokeh: BokehJS failed to load within specified timeout.\");\n",
              "      root._bokeh_failed_load = true;\n",
              "    } else if (force !== true) {\n",
              "      var cell = $(document.getElementById(null)).parents('.cell').data().cell;\n",
              "      cell.output_area.append_execute_result(NB_LOAD_WARNING)\n",
              "    }\n",
              "\n",
              "  }\n",
              "\n",
              "  if (root._bokeh_is_loading === 0) {\n",
              "    console.debug(\"Bokeh: BokehJS loaded, going straight to plotting\");\n",
              "    run_inline_js();\n",
              "  } else {\n",
              "    load_libs(css_urls, js_urls, function() {\n",
              "      console.debug(\"Bokeh: BokehJS plotting callback run at\", now());\n",
              "      run_inline_js();\n",
              "    });\n",
              "  }\n",
              "}(window));"
            ],
            "application/vnd.bokehjs_load.v0+json": "\n(function(root) {\n  function now() {\n    return new Date();\n  }\n\n  var force = true;\n\n  if (typeof root._bokeh_onload_callbacks === \"undefined\" || force === true) {\n    root._bokeh_onload_callbacks = [];\n    root._bokeh_is_loading = undefined;\n  }\n\n  \n\n  \n  if (typeof (root._bokeh_timeout) === \"undefined\" || force === true) {\n    root._bokeh_timeout = Date.now() + 5000;\n    root._bokeh_failed_load = false;\n  }\n\n  var NB_LOAD_WARNING = {'data': {'text/html':\n     \"<div style='background-color: #fdd'>\\n\"+\n     \"<p>\\n\"+\n     \"BokehJS does not appear to have successfully loaded. If loading BokehJS from CDN, this \\n\"+\n     \"may be due to a slow or bad network connection. Possible fixes:\\n\"+\n     \"</p>\\n\"+\n     \"<ul>\\n\"+\n     \"<li>re-rerun `output_notebook()` to attempt to load from CDN again, or</li>\\n\"+\n     \"<li>use INLINE resources instead, as so:</li>\\n\"+\n     \"</ul>\\n\"+\n     \"<code>\\n\"+\n     \"from bokeh.resources import INLINE\\n\"+\n     \"output_notebook(resources=INLINE)\\n\"+\n     \"</code>\\n\"+\n     \"</div>\"}};\n\n  function display_loaded() {\n    var el = document.getElementById(null);\n    if (el != null) {\n      el.textContent = \"BokehJS is loading...\";\n    }\n    if (root.Bokeh !== undefined) {\n      if (el != null) {\n        el.textContent = \"BokehJS \" + root.Bokeh.version + \" successfully loaded.\";\n      }\n    } else if (Date.now() < root._bokeh_timeout) {\n      setTimeout(display_loaded, 100)\n    }\n  }\n\n\n  function run_callbacks() {\n    try {\n      root._bokeh_onload_callbacks.forEach(function(callback) {\n        if (callback != null)\n          callback();\n      });\n    } finally {\n      delete root._bokeh_onload_callbacks\n    }\n    console.debug(\"Bokeh: all callbacks have finished\");\n  }\n\n  function load_libs(css_urls, js_urls, callback) {\n    if (css_urls == null) css_urls = [];\n    if (js_urls == null) js_urls = [];\n\n    root._bokeh_onload_callbacks.push(callback);\n    if (root._bokeh_is_loading > 0) {\n      console.debug(\"Bokeh: BokehJS is being loaded, scheduling callback at\", now());\n      return null;\n    }\n    if (js_urls == null || js_urls.length === 0) {\n      run_callbacks();\n      return null;\n    }\n    console.debug(\"Bokeh: BokehJS not loaded, scheduling load and callback at\", now());\n    root._bokeh_is_loading = css_urls.length + js_urls.length;\n\n    function on_load() {\n      root._bokeh_is_loading--;\n      if (root._bokeh_is_loading === 0) {\n        console.debug(\"Bokeh: all BokehJS libraries/stylesheets loaded\");\n        run_callbacks()\n      }\n    }\n\n    function on_error(url) {\n      console.error(\"failed to load \" + url);\n    }\n\n    for (let i = 0; i < css_urls.length; i++) {\n      const url = css_urls[i];\n      const element = document.createElement(\"link\");\n      element.onload = on_load;\n      element.onerror = on_error.bind(null, url);\n      element.rel = \"stylesheet\";\n      element.type = \"text/css\";\n      element.href = url;\n      console.debug(\"Bokeh: injecting link tag for BokehJS stylesheet: \", url);\n      document.body.appendChild(element);\n    }\n\n    const hashes = {\"https://cdn.bokeh.org/bokeh/release/bokeh-2.3.3.min.js\": \"dM3QQsP+wXdHg42wTqW85BjZQdLNNIXqlPw/BgKoExPmTG7ZLML4EGqLMfqHT6ON\", \"https://cdn.bokeh.org/bokeh/release/bokeh-tables-2.3.3.min.js\": \"8x57I4YuIfu8XyZfFo0XVr2WAT8EK4rh/uDe3wF7YuW2FNUSNEpJbsPaB1nJ2fz2\", \"https://cdn.bokeh.org/bokeh/release/bokeh-widgets-2.3.3.min.js\": \"3QTqdz9LyAm2i0sG5XTePsHec3UHWwVsrOL68SYRoAXsafvfAyqtQ+h440+qIBhS\"};\n\n    for (let i = 0; i < js_urls.length; i++) {\n      const url = js_urls[i];\n      const element = document.createElement('script');\n      element.onload = on_load;\n      element.onerror = on_error.bind(null, url);\n      element.async = false;\n      element.src = url;\n      if (url in hashes) {\n        element.crossOrigin = \"anonymous\";\n        element.integrity = \"sha384-\" + hashes[url];\n      }\n      console.debug(\"Bokeh: injecting script tag for BokehJS library: \", url);\n      document.head.appendChild(element);\n    }\n  };\n\n  function inject_raw_css(css) {\n    const element = document.createElement(\"style\");\n    element.appendChild(document.createTextNode(css));\n    document.body.appendChild(element);\n  }\n\n  \n  var js_urls = [\"https://cdn.bokeh.org/bokeh/release/bokeh-2.3.3.min.js\", \"https://cdn.bokeh.org/bokeh/release/bokeh-widgets-2.3.3.min.js\", \"https://cdn.bokeh.org/bokeh/release/bokeh-tables-2.3.3.min.js\"];\n  var css_urls = [];\n  \n\n  var inline_js = [\n    function(Bokeh) {\n      Bokeh.set_log_level(\"info\");\n    },\n    function(Bokeh) {\n    \n    \n    }\n  ];\n\n  function run_inline_js() {\n    \n    if (root.Bokeh !== undefined || force === true) {\n      \n    for (var i = 0; i < inline_js.length; i++) {\n      inline_js[i].call(root, root.Bokeh);\n    }\n    } else if (Date.now() < root._bokeh_timeout) {\n      setTimeout(run_inline_js, 100);\n    } else if (!root._bokeh_failed_load) {\n      console.log(\"Bokeh: BokehJS failed to load within specified timeout.\");\n      root._bokeh_failed_load = true;\n    } else if (force !== true) {\n      var cell = $(document.getElementById(null)).parents('.cell').data().cell;\n      cell.output_area.append_execute_result(NB_LOAD_WARNING)\n    }\n\n  }\n\n  if (root._bokeh_is_loading === 0) {\n    console.debug(\"Bokeh: BokehJS loaded, going straight to plotting\");\n    run_inline_js();\n  } else {\n    load_libs(css_urls, js_urls, function() {\n      console.debug(\"Bokeh: BokehJS plotting callback run at\", now());\n      run_inline_js();\n    });\n  }\n}(window));"
          },
          "metadata": {}
        },
        {
          "output_type": "display_data",
          "data": {
            "text/html": [
              "\n",
              "\n",
              "\n",
              "\n",
              "\n",
              "\n",
              "  <div class=\"bk-root\" id=\"ad8932e7-c9b7-4972-bb03-f7a1df071fab\" data-root-id=\"1002\"></div>\n"
            ]
          },
          "metadata": {}
        },
        {
          "output_type": "display_data",
          "data": {
            "application/javascript": [
              "(function(root) {\n",
              "  function embed_document(root) {\n",
              "    \n",
              "  var docs_json = {\"ccd50b44-9bfb-4ab7-b39a-d96e19e03fa7\":{\"defs\":[],\"roots\":{\"references\":[{\"attributes\":{\"below\":[{\"id\":\"1013\"}],\"center\":[{\"id\":\"1016\"},{\"id\":\"1020\"},{\"id\":\"1062\"}],\"height\":400,\"left\":[{\"id\":\"1017\"}],\"renderers\":[{\"id\":\"1038\"}],\"title\":{\"id\":\"1003\"},\"toolbar\":{\"id\":\"1028\"},\"x_range\":{\"id\":\"1005\"},\"x_scale\":{\"id\":\"1009\"},\"y_range\":{\"id\":\"1007\"},\"y_scale\":{\"id\":\"1011\"}},\"id\":\"1002\",\"subtype\":\"Figure\",\"type\":\"Plot\"},{\"attributes\":{\"bottom_units\":\"screen\",\"fill_alpha\":0.5,\"fill_color\":\"lightgrey\",\"left_units\":\"screen\",\"level\":\"overlay\",\"line_alpha\":1.0,\"line_color\":\"black\",\"line_dash\":[4,4],\"line_width\":2,\"right_units\":\"screen\",\"syncable\":false,\"top_units\":\"screen\"},\"id\":\"1027\",\"type\":\"BoxAnnotation\"},{\"attributes\":{},\"id\":\"1011\",\"type\":\"LinearScale\"},{\"attributes\":{\"axis_label\":\"Date\",\"formatter\":{\"id\":\"1043\"},\"major_label_policy\":{\"id\":\"1042\"},\"ticker\":{\"id\":\"1014\"}},\"id\":\"1013\",\"type\":\"DatetimeAxis\"},{\"attributes\":{\"num_minor_ticks\":5,\"tickers\":[{\"id\":\"1047\"},{\"id\":\"1048\"},{\"id\":\"1049\"},{\"id\":\"1050\"},{\"id\":\"1051\"},{\"id\":\"1052\"},{\"id\":\"1053\"},{\"id\":\"1054\"},{\"id\":\"1055\"},{\"id\":\"1056\"},{\"id\":\"1057\"},{\"id\":\"1058\"}]},\"id\":\"1014\",\"type\":\"DatetimeTicker\"},{\"attributes\":{\"axis\":{\"id\":\"1013\"},\"grid_line_alpha\":0.3,\"ticker\":null},\"id\":\"1016\",\"type\":\"Grid\"},{\"attributes\":{},\"id\":\"1059\",\"type\":\"UnionRenderers\"},{\"attributes\":{},\"id\":\"1026\",\"type\":\"HelpTool\"},{\"attributes\":{\"axis_label\":\"Price $\",\"formatter\":{\"id\":\"1046\"},\"major_label_policy\":{\"id\":\"1045\"},\"ticker\":{\"id\":\"1018\"}},\"id\":\"1017\",\"type\":\"LinearAxis\"},{\"attributes\":{\"axis\":{\"id\":\"1017\"},\"dimension\":1,\"grid_line_alpha\":0.3,\"ticker\":null},\"id\":\"1020\",\"type\":\"Grid\"},{\"attributes\":{},\"id\":\"1018\",\"type\":\"BasicTicker\"},{\"attributes\":{},\"id\":\"1046\",\"type\":\"BasicTickFormatter\"},{\"attributes\":{},\"id\":\"1060\",\"type\":\"Selection\"},{\"attributes\":{\"line_color\":\"#f2a900\",\"x\":{\"field\":\"x\"},\"y\":{\"field\":\"y\"}},\"id\":\"1036\",\"type\":\"Line\"},{\"attributes\":{\"active_multi\":null,\"tools\":[{\"id\":\"1021\"},{\"id\":\"1022\"},{\"id\":\"1023\"},{\"id\":\"1024\"},{\"id\":\"1025\"},{\"id\":\"1026\"}]},\"id\":\"1028\",\"type\":\"Toolbar\"},{\"attributes\":{},\"id\":\"1022\",\"type\":\"WheelZoomTool\"},{\"attributes\":{},\"id\":\"1021\",\"type\":\"PanTool\"},{\"attributes\":{\"overlay\":{\"id\":\"1027\"}},\"id\":\"1023\",\"type\":\"BoxZoomTool\"},{\"attributes\":{},\"id\":\"1024\",\"type\":\"SaveTool\"},{\"attributes\":{\"mantissas\":[1,2,5],\"max_interval\":500.0,\"num_minor_ticks\":0},\"id\":\"1047\",\"type\":\"AdaptiveTicker\"},{\"attributes\":{},\"id\":\"1025\",\"type\":\"ResetTool\"},{\"attributes\":{\"base\":60,\"mantissas\":[1,2,5,10,15,20,30],\"max_interval\":1800000.0,\"min_interval\":1000.0,\"num_minor_ticks\":0},\"id\":\"1048\",\"type\":\"AdaptiveTicker\"},{\"attributes\":{\"data\":{\"x\":{\"__ndarray__\":\"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\",\"dtype\":\"float64\",\"order\":\"little\",\"shape\":[2399]},\"y\":{\"__ndarray__\":\"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\",\"dtype\":\"float64\",\"order\":\"little\",\"shape\":[2399]}},\"selected\":{\"id\":\"1060\"},\"selection_policy\":{\"id\":\"1059\"}},\"id\":\"1035\",\"type\":\"ColumnDataSource\"},{\"attributes\":{},\"id\":\"1007\",\"type\":\"DataRange1d\"},{\"attributes\":{\"days\":[1,2,3,4,5,6,7,8,9,10,11,12,13,14,15,16,17,18,19,20,21,22,23,24,25,26,27,28,29,30,31]},\"id\":\"1050\",\"type\":\"DaysTicker\"},{\"attributes\":{\"base\":24,\"mantissas\":[1,2,4,6,8,12],\"max_interval\":43200000.0,\"min_interval\":3600000.0,\"num_minor_ticks\":0},\"id\":\"1049\",\"type\":\"AdaptiveTicker\"},{\"attributes\":{\"data_source\":{\"id\":\"1035\"},\"glyph\":{\"id\":\"1036\"},\"hover_glyph\":null,\"muted_glyph\":null,\"nonselection_glyph\":{\"id\":\"1037\"},\"view\":{\"id\":\"1039\"}},\"id\":\"1038\",\"type\":\"GlyphRenderer\"},{\"attributes\":{\"months\":[0,1,2,3,4,5,6,7,8,9,10,11]},\"id\":\"1054\",\"type\":\"MonthsTicker\"},{\"attributes\":{\"source\":{\"id\":\"1035\"}},\"id\":\"1039\",\"type\":\"CDSView\"},{\"attributes\":{},\"id\":\"1009\",\"type\":\"LinearScale\"},{\"attributes\":{},\"id\":\"1045\",\"type\":\"AllLabels\"},{\"attributes\":{\"label\":{\"value\":\"Litecoin\"},\"renderers\":[{\"id\":\"1038\"}]},\"id\":\"1063\",\"type\":\"LegendItem\"},{\"attributes\":{\"days\":[1,4,7,10,13,16,19,22,25,28]},\"id\":\"1051\",\"type\":\"DaysTicker\"},{\"attributes\":{\"months\":[0,2,4,6,8,10]},\"id\":\"1055\",\"type\":\"MonthsTicker\"},{\"attributes\":{\"days\":[1,15]},\"id\":\"1053\",\"type\":\"DaysTicker\"},{\"attributes\":{},\"id\":\"1043\",\"type\":\"DatetimeTickFormatter\"},{\"attributes\":{},\"id\":\"1005\",\"type\":\"DataRange1d\"},{\"attributes\":{\"line_alpha\":0.1,\"line_color\":\"#f2a900\",\"x\":{\"field\":\"x\"},\"y\":{\"field\":\"y\"}},\"id\":\"1037\",\"type\":\"Line\"},{\"attributes\":{\"days\":[1,8,15,22]},\"id\":\"1052\",\"type\":\"DaysTicker\"},{\"attributes\":{\"months\":[0,6]},\"id\":\"1057\",\"type\":\"MonthsTicker\"},{\"attributes\":{},\"id\":\"1058\",\"type\":\"YearsTicker\"},{\"attributes\":{\"months\":[0,4,8]},\"id\":\"1056\",\"type\":\"MonthsTicker\"},{\"attributes\":{},\"id\":\"1042\",\"type\":\"AllLabels\"},{\"attributes\":{\"text\":\"Crypto Prices\"},\"id\":\"1003\",\"type\":\"Title\"},{\"attributes\":{\"items\":[{\"id\":\"1063\"}],\"location\":\"top_left\"},\"id\":\"1062\",\"type\":\"Legend\"}],\"root_ids\":[\"1002\"]},\"title\":\"Bokeh Application\",\"version\":\"2.3.3\"}};\n",
              "  var render_items = [{\"docid\":\"ccd50b44-9bfb-4ab7-b39a-d96e19e03fa7\",\"root_ids\":[\"1002\"],\"roots\":{\"1002\":\"ad8932e7-c9b7-4972-bb03-f7a1df071fab\"}}];\n",
              "  root.Bokeh.embed.embed_items_notebook(docs_json, render_items);\n",
              "\n",
              "  }\n",
              "  if (root.Bokeh !== undefined) {\n",
              "    embed_document(root);\n",
              "  } else {\n",
              "    var attempts = 0;\n",
              "    var timer = setInterval(function(root) {\n",
              "      if (root.Bokeh !== undefined) {\n",
              "        clearInterval(timer);\n",
              "        embed_document(root);\n",
              "      } else {\n",
              "        attempts++;\n",
              "        if (attempts > 100) {\n",
              "          clearInterval(timer);\n",
              "          console.log(\"Bokeh: ERROR: Unable to run BokehJS code because BokehJS library is missing\");\n",
              "        }\n",
              "      }\n",
              "    }, 10, root)\n",
              "  }\n",
              "})(window);"
            ],
            "application/vnd.bokehjs_exec.v0+json": ""
          },
          "metadata": {
            "application/vnd.bokehjs_exec.v0+json": {
              "id": "1002"
            }
          }
        }
      ],
      "source": [
        "from bokeh.plotting import figure, output_file, show\n",
        "from bokeh.io import output_notebook\n",
        "output_notebook()\n",
        "\n",
        "p1 = figure(x_axis_type=\"datetime\", title=\"Crypto Prices\")\n",
        "p1.plot_height=400\n",
        "p1.grid.grid_line_alpha=0.3\n",
        "p1.xaxis.axis_label = 'Date'\n",
        "p1.yaxis.axis_label = 'Price $'\n",
        "p1.line(ltc.index, ltc['ClosePrice'], color='#f2a900', legend_label='Litecoin')\n",
        "p1.legend.location = \"top_left\"\n",
        "\n",
        "show(p1)"
      ]
    },
    {
      "cell_type": "markdown",
      "metadata": {
        "id": "9qQYaR82ugZn"
      },
      "source": [
        "**Exporting to Excel**\n",
        "\n",
        "In this section we exported the file to Excel for further analysis"
      ]
    },
    {
      "cell_type": "code",
      "execution_count": 10,
      "metadata": {
        "scrolled": true,
        "id": "x7Kv3HTzugZo"
      },
      "outputs": [],
      "source": [
        "writer = pd.ExcelWriter('Litecoin_history.xlsx')\n",
        "ltc.to_excel(writer, sheet_name='Litecoin')\n",
        "writer.save()"
      ]
    },
    {
      "cell_type": "markdown",
      "source": [
        "\n",
        "\n",
        "<h1>Conclusion<span class=\"tocSkip\"></span></h1>\n",
        "<div class=\"toc\"><ul class=\"toc-item\"></ul></div>\n",
        "\n",
        "Price of Litecoin has seen a signifciant increase over the last 100 days and is very volatile. The prices ranged from $90-98 in February. \n",
        "We observed a seasonal impact which results in declining price of Litecoin. \n",
        "\n"
      ],
      "metadata": {
        "id": "x1G7KwWMSh68"
      }
    },
    {
      "cell_type": "markdown",
      "source": [
        "<h1>References<span class=\"tocSkip\"></span></h1>\n",
        "<div class=\"toc\"><ul class=\"toc-item\"></ul></div>\n",
        "\n",
        "Project Jupyter. (n.d.). Home. https://jupyter.org/ \n",
        "\n",
        "CoinDesk: Bitcoin, Ethereum, Crypto News and Price Data. (n.d.). https://www.coindesk.com/tag/bitstamp/\n"
      ],
      "metadata": {
        "id": "YXZvyQKCTuwV"
      }
    }
  ],
  "metadata": {
    "kernelspec": {
      "display_name": "Python 3 (ipykernel)",
      "language": "python",
      "name": "python3"
    },
    "language_info": {
      "codemirror_mode": {
        "name": "ipython",
        "version": 3
      },
      "file_extension": ".py",
      "mimetype": "text/x-python",
      "name": "python",
      "nbconvert_exporter": "python",
      "pygments_lexer": "ipython3",
      "version": "3.9.12"
    },
    "toc": {
      "base_numbering": 1,
      "nav_menu": {},
      "number_sections": true,
      "sideBar": true,
      "skip_h1_title": false,
      "title_cell": "Table of Contents",
      "title_sidebar": "Contents",
      "toc_cell": true,
      "toc_position": {},
      "toc_section_display": true,
      "toc_window_display": false
    },
    "colab": {
      "provenance": []
    }
  },
  "nbformat": 4,
  "nbformat_minor": 0
}